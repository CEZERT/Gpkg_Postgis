{
  "nbformat": 4,
  "nbformat_minor": 0,
  "metadata": {
    "colab": {
      "provenance": [],
      "authorship_tag": "ABX9TyMokonpdTi0jo4IbSXOHW4t",
      "include_colab_link": true
    },
    "kernelspec": {
      "name": "python3",
      "display_name": "Python 3"
    },
    "language_info": {
      "name": "python"
    }
  },
  "cells": [
    {
      "cell_type": "markdown",
      "metadata": {
        "id": "view-in-github",
        "colab_type": "text"
      },
      "source": [
        "<a href=\"https://colab.research.google.com/github/CEZERT/Gpkg_Postgis/blob/main/Jamb.ipynb\" target=\"_parent\"><img src=\"https://colab.research.google.com/assets/colab-badge.svg\" alt=\"Open In Colab\"/></a>"
      ]
    },
    {
      "cell_type": "code",
      "execution_count": null,
      "metadata": {
        "id": "jNh-5ASyD9dv"
      },
      "outputs": [],
      "source": [
        "!import fiona\n",
        "!import geopandas\n",
        "!import psycopg2"
      ]
    },
    {
      "cell_type": "code",
      "source": [
        "import fiona\n",
        "import psycopg2\n",
        "import geopandas as gpd\n",
        "\n",
        "# Define GeoPackage file path and PostGIS connection parameters\n",
        "gpkg_path = r\"S:\\09-Production\\CLIENTS\\AIR LIQUIDE\\Suivi_jambonnage\\14.QFIELD\\2023\\NF\\projet_QGIS\\RETOUR TERRAIN\\Tab_01\\data.gpkg\"\n",
        "pg_user = \"postgres\"\n",
        "pg_password = \"postgres\"\n",
        "pg_host = \"172.16.0.28\"\n",
        "pg_port = \"5432\"\n",
        "pg_database = \"jamb_airl_qfield_bis\"\n",
        "\n",
        "# Connect to PostGIS database\n",
        "pg_conn = psycopg2.connect(\n",
        "    user=pg_user,\n",
        "    password=pg_password,\n",
        "    host=pg_host,\n",
        "    port=pg_port,\n",
        "    database=pg_database)\n",
        "\n",
        "# Read GeoPackage file into dictionary of GeoDataFrames\n",
        "gpkg_gdfs = gpd.read_file(gpkg_path)\n",
        "\n",
        "# Loop through layers in GeoDataFrames\n",
        "for layer_name, layer_gdf in gpkg_gdfs.items():\n",
        "\n",
        "    layer_gdf = layer_gdf.convert_dtypes()\n",
        "    layer_fields = layer_gdf.dtypes.to_dict()\n",
        "    layer_field_names = list(layer_fields.keys())\n",
        "    layer_field_types = list(layer_fields.values())\n",
        "\n",
        "    # Check if layer exists in PostGIS database\n",
        "    pg_cursor = pg_conn.cursor()\n",
        "    pg_cursor.execute(\n",
        "        f\"SELECT EXISTS (SELECT 1 FROM information_schema.tables WHERE table_schema = 'public' AND table_name = '{layer_name}')\")\n",
        "    layer_exists = pg_cursor.fetchone()[0]\n",
        "\n",
        "    if layer_exists:\n",
        "        # Compare fields between GeoPackage layer and PostGIS table\n",
        "        pg_cursor.execute(\n",
        "            f\"SELECT column_name, data_type FROM information_schema.columns WHERE table_name = '{layer_name}'\")\n",
        "        pg_fields = pg_cursor.fetchall()\n",
        "        pg_field_names = [field[0] for field in pg_fields]\n",
        "        pg_field_types = [field[1] for field in pg_fields]\n",
        "\n",
        "        if layer_field_names != pg_field_names or layer_field_types != pg_field_types:\n",
        "            print(f\"Fields in layer {layer_name} do not match fields in table {layer_name} in PostGIS database.\")\n",
        "    else:\n",
        "        print(f\"Layer {layer_name} does not exist in PostGIS database.\")\n",
        "\n",
        "# Close PostGIS connection\n",
        "pg_cursor.close()\n",
        "pg_conn.close()()"
      ],
      "metadata": {
        "id": "q7jkTL5JFIe2"
      },
      "execution_count": null,
      "outputs": []
    }
  ]
}